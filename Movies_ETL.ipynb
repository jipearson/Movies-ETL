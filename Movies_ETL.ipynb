{
 "cells": [
  {
   "cell_type": "code",
   "execution_count": 1,
   "metadata": {},
   "outputs": [],
   "source": [
    "import json\n",
    "import pandas as pd\n",
    "import numpy as np"
   ]
  },
  {
   "cell_type": "code",
   "execution_count": 2,
   "metadata": {},
   "outputs": [],
   "source": [
    "file_dir = 'C://Users/jipea/Vandy_Data/Git_Hub/Movies-ETL-Resources/'"
   ]
  },
  {
   "cell_type": "code",
   "execution_count": 3,
   "metadata": {},
   "outputs": [
    {
     "data": {
      "text/plain": [
       "'C://Users/jipea/Vandy_Data/Git_Hub/Movies-ETL-Resources/filename'"
      ]
     },
     "execution_count": 3,
     "metadata": {},
     "output_type": "execute_result"
    }
   ],
   "source": [
    "f'{file_dir}filename'"
   ]
  },
  {
   "cell_type": "code",
   "execution_count": 4,
   "metadata": {},
   "outputs": [],
   "source": [
    "# Wiki Data"
   ]
  },
  {
   "cell_type": "code",
   "execution_count": 5,
   "metadata": {},
   "outputs": [],
   "source": [
    "### Extract"
   ]
  },
  {
   "cell_type": "code",
   "execution_count": 6,
   "metadata": {},
   "outputs": [],
   "source": [
    "with open(f'{file_dir}/wikipedia-movies.json', mode='r') as file:\n",
    "    wiki_movies_raw = json.load(file)"
   ]
  },
  {
   "cell_type": "code",
   "execution_count": 7,
   "metadata": {},
   "outputs": [
    {
     "data": {
      "text/plain": [
       "7311"
      ]
     },
     "execution_count": 7,
     "metadata": {},
     "output_type": "execute_result"
    }
   ],
   "source": [
    "len(wiki_movies_raw)"
   ]
  },
  {
   "cell_type": "code",
   "execution_count": 8,
   "metadata": {},
   "outputs": [
    {
     "data": {
      "text/plain": [
       "[{'url': 'https://en.wikipedia.org/wiki/Benji:_Off_the_Leash!',\n",
       "  'year': 2004,\n",
       "  'imdb_link': 'https://www.imdb.com/title/tt0315273/',\n",
       "  'title': 'Benji: Off the Leash!',\n",
       "  'Directed by': 'Joe Camp',\n",
       "  'Written by': 'Joe Camp',\n",
       "  'Starring': ['Benji', 'Nick Whitaker', 'Shaggy', 'Gypsy the Cockatoo'],\n",
       "  'Music by': 'Antonio di Lorenzo',\n",
       "  'Productioncompany ': 'Mulberry Square Productions',\n",
       "  'Distributed by': 'Mulberry Square Productions',\n",
       "  'Release date': ['March 26, 2004', '(', '2004-03-26', ')'],\n",
       "  'Running time': '97 min',\n",
       "  'Country': 'United States',\n",
       "  'Language': 'English',\n",
       "  'Box office': '$3,817,362'},\n",
       " {'url': 'https://en.wikipedia.org/wiki/The_Best_Thief_in_the_World',\n",
       "  'year': 2004,\n",
       "  'imdb_link': 'https://www.imdb.com/title/tt0389796/',\n",
       "  'title': 'The Best Thief in the World',\n",
       "  'Directed by': 'Jacob Kornbluth',\n",
       "  'Produced by': ['Tim Perrell', 'Nicola Usborne'],\n",
       "  'Written by': 'Jacob Kornbluth',\n",
       "  'Starring': ['Marc Rozendaal',\n",
       "   'Michael Silverman',\n",
       "   'David Warshofsky',\n",
       "   'Audra McDonald',\n",
       "   'Lois Smith'],\n",
       "  'Music by': ['Prince Paul', 'and', 'Don Newkirk'],\n",
       "  'Cinematography': 'Ben Kutchins',\n",
       "  'Edited by': 'Stephanie Sterner',\n",
       "  'Distributed by': 'Showtime Networks',\n",
       "  'Release date': ['January 16, 2004', '(', '2004-01-16', ')'],\n",
       "  'Running time': '93 minutes',\n",
       "  'Country': 'United States',\n",
       "  'Language': 'English'},\n",
       " {'url': 'https://en.wikipedia.org/wiki/Beyond_the_Sea_(2004_film)',\n",
       "  'year': 2004,\n",
       "  'imdb_link': 'https://www.imdb.com/title/tt0363473/',\n",
       "  'title': 'Beyond the Sea',\n",
       "  'Directed by': 'Kevin Spacey',\n",
       "  'Produced by': ['Kevin Spacey',\n",
       "   'Phillip Barry',\n",
       "   'Dana Brunetti',\n",
       "   'Arthur Friedman',\n",
       "   'Jan Fantl',\n",
       "   'Andy Paterson'],\n",
       "  'Written by': ['Lewis Colick', 'Kevin Spacey'],\n",
       "  'Starring': ['Kevin Spacey', 'Kate Bosworth', 'Bob Hoskins', 'John Goodman'],\n",
       "  'Music by': 'Bobby Darin',\n",
       "  'Cinematography': 'Eduardo Serra',\n",
       "  'Edited by': 'Trevor Waite',\n",
       "  'Productioncompany ': 'Trigger Street Productions',\n",
       "  'Distributed by': ['Lionsgate Films',\n",
       "   '(USA)',\n",
       "   'Entertainment Film Distributors',\n",
       "   '(UK)',\n",
       "   'GAGA',\n",
       "   '(Japan)',\n",
       "   'Maple Pictures',\n",
       "   '(Canada)'],\n",
       "  'Release date': ['December 17, 2004', '(', '2004-12-17', ')'],\n",
       "  'Running time': '118 minutes',\n",
       "  'Country': 'United States',\n",
       "  'Language': 'English',\n",
       "  'Budget': '$25 million',\n",
       "  'Box office': '$8.4 million'},\n",
       " {'url': 'https://en.wikipedia.org/wiki/The_Big_Bounce_(2004_film)',\n",
       "  'year': 2004,\n",
       "  'imdb_link': 'https://www.imdb.com/title/tt0315824/',\n",
       "  'title': 'The Big Bounce',\n",
       "  'Directed by': 'George Armitage',\n",
       "  'Produced by': ['George Armitage', 'Steve Bing'],\n",
       "  'Screenplay by': 'Sebastian Gutierrez',\n",
       "  'Based on': ['The Big Bounce', 'by', 'Elmore Leonard'],\n",
       "  'Starring': ['Owen Wilson',\n",
       "   'Charlie Sheen',\n",
       "   'Morgan Freeman',\n",
       "   'Sara Foster',\n",
       "   'Gary Sinise'],\n",
       "  'Music by': 'George S. Clinton',\n",
       "  'Cinematography': 'Jeffrey L. Kimball',\n",
       "  'Edited by': 'Barry Malkin',\n",
       "  'Productioncompany ': 'Shangri-La Entertainment',\n",
       "  'Distributed by': 'Warner Bros. Pictures',\n",
       "  'Release date': ['January 30, 2004', '(', '2004-01-30', ')'],\n",
       "  'Running time': '88 minutes',\n",
       "  'Language': 'English',\n",
       "  'Budget': '$50 million',\n",
       "  'Box office': '$6.8 million'},\n",
       " {'url': 'https://en.wikipedia.org/wiki/Birth_(film)',\n",
       "  'year': 2004,\n",
       "  'imdb_link': 'https://www.imdb.com/title/tt0337876/',\n",
       "  'title': 'Birth',\n",
       "  'Directed by': 'Jonathan Glazer',\n",
       "  'Produced by': ['Lizie Gower', 'Nick Morris', 'Jean-Louis Piel'],\n",
       "  'Written by': ['Jean-Claude Carrière', 'Milo Addica', 'Jonathan Glazer'],\n",
       "  'Starring': ['Nicole Kidman',\n",
       "   'Cameron Bright',\n",
       "   'Danny Huston',\n",
       "   'Lauren Bacall'],\n",
       "  'Music by': 'Alexandre Desplat',\n",
       "  'Cinematography': 'Harris Savides',\n",
       "  'Edited by': ['Sam Sneade', 'Claus Wehlisch'],\n",
       "  'Distributed by': 'New Line Cinema',\n",
       "  'Release date': ['November 8, 2004', '(', '2004-11-08', ')'],\n",
       "  'Running time': '96 minutes',\n",
       "  'Country': 'United States',\n",
       "  'Language': 'English',\n",
       "  'Budget': '$20 million',\n",
       "  'Box office': '$23.9 million'}]"
      ]
     },
     "execution_count": 8,
     "metadata": {},
     "output_type": "execute_result"
    }
   ],
   "source": [
    "# View the first 5 records \n",
    "wiki_movies_raw[:5]\n",
    "\n",
    "# View the last 5 records\n",
    "wiki_movies_raw[-5:]\n",
    "\n",
    "# View some records in the middle \n",
    "wiki_movies_raw[3600:3605]"
   ]
  },
  {
   "cell_type": "code",
   "execution_count": null,
   "metadata": {},
   "outputs": [],
   "source": [
    "### Transform"
   ]
  },
  {
   "cell_type": "code",
   "execution_count": null,
   "metadata": {},
   "outputs": [],
   "source": [
    "wiki_movies_df = pd.DataFrame(wiki_movies_raw)"
   ]
  },
  {
   "cell_type": "code",
   "execution_count": null,
   "metadata": {},
   "outputs": [],
   "source": [
    "wiki_movies_df.columns.to_list()"
   ]
  },
  {
   "cell_type": "code",
   "execution_count": null,
   "metadata": {},
   "outputs": [],
   "source": [
    "wiki_movies = [movie for movie in wiki_movies_raw\n",
    "              if ('Director' in movie or 'Directed by' in movie)\n",
    "              and 'imdb_link' in movie\n",
    "              and 'No. of episodes' not in movie]"
   ]
  },
  {
   "cell_type": "code",
   "execution_count": null,
   "metadata": {},
   "outputs": [],
   "source": [
    "wiki_df = pd.DataFrame(wiki_movies)"
   ]
  },
  {
   "cell_type": "code",
   "execution_count": null,
   "metadata": {},
   "outputs": [],
   "source": [
    "wiki_df.head()"
   ]
  },
  {
   "cell_type": "code",
   "execution_count": null,
   "metadata": {},
   "outputs": [],
   "source": [
    "def clean_movie(movie):\n",
    "        movie = dict(movie) #create non-destructive copy\n",
    "        alt_titles = {}\n",
    "        for key in ['Also know as','Arabic','Cantonese','Chinese','French',\n",
    "                    'Hangul','Hebrew','Hepburn','Japanese','Literally']:\n",
    "            if key in movie:\n",
    "                alt_titles[key] = movie[key]\n",
    "                movie.pop(key)\n",
    "            if len(alt_titles) > 0:\n",
    "                movie['alt_titles'] = alt_titles\n",
    "                \n",
    "            return movie"
   ]
  },
  {
   "cell_type": "code",
   "execution_count": null,
   "metadata": {},
   "outputs": [],
   "source": [
    "clean_movies = [clean_movie(movie) for movie in wiki_movies]"
   ]
  },
  {
   "cell_type": "code",
   "execution_count": null,
   "metadata": {},
   "outputs": [],
   "source": [
    "clean_movies.columns.to_list()"
   ]
  },
  {
   "cell_type": "code",
   "execution_count": null,
   "metadata": {},
   "outputs": [],
   "source": [
    "# Kaggle Data"
   ]
  },
  {
   "cell_type": "code",
   "execution_count": 11,
   "metadata": {},
   "outputs": [],
   "source": [
    "# Pull Kaggle data into Pandas DataFrames directly\n",
    "kaggle_metadata = pd.read_csv(f'{file_dir}movies_metadata.csv', low_memory=False)\n",
    "ratings = pd.read_csv(f'{file_dir}ratings.csv')"
   ]
  },
  {
   "cell_type": "code",
   "execution_count": 12,
   "metadata": {},
   "outputs": [
    {
     "data": {
      "text/html": [
       "<div>\n",
       "<style scoped>\n",
       "    .dataframe tbody tr th:only-of-type {\n",
       "        vertical-align: middle;\n",
       "    }\n",
       "\n",
       "    .dataframe tbody tr th {\n",
       "        vertical-align: top;\n",
       "    }\n",
       "\n",
       "    .dataframe thead th {\n",
       "        text-align: right;\n",
       "    }\n",
       "</style>\n",
       "<table border=\"1\" class=\"dataframe\">\n",
       "  <thead>\n",
       "    <tr style=\"text-align: right;\">\n",
       "      <th></th>\n",
       "      <th>adult</th>\n",
       "      <th>belongs_to_collection</th>\n",
       "      <th>budget</th>\n",
       "      <th>genres</th>\n",
       "      <th>homepage</th>\n",
       "      <th>id</th>\n",
       "      <th>imdb_id</th>\n",
       "      <th>original_language</th>\n",
       "      <th>original_title</th>\n",
       "      <th>overview</th>\n",
       "      <th>...</th>\n",
       "      <th>release_date</th>\n",
       "      <th>revenue</th>\n",
       "      <th>runtime</th>\n",
       "      <th>spoken_languages</th>\n",
       "      <th>status</th>\n",
       "      <th>tagline</th>\n",
       "      <th>title</th>\n",
       "      <th>video</th>\n",
       "      <th>vote_average</th>\n",
       "      <th>vote_count</th>\n",
       "    </tr>\n",
       "  </thead>\n",
       "  <tbody>\n",
       "    <tr>\n",
       "      <th>21820</th>\n",
       "      <td>False</td>\n",
       "      <td>NaN</td>\n",
       "      <td>15000000</td>\n",
       "      <td>[{'id': 28, 'name': 'Action'}, {'id': 10769, '...</td>\n",
       "      <td>http://drona.erosentertainment.com/</td>\n",
       "      <td>19623</td>\n",
       "      <td>tt1060249</td>\n",
       "      <td>hi</td>\n",
       "      <td>Drona</td>\n",
       "      <td>NaN</td>\n",
       "      <td>...</td>\n",
       "      <td>2008-10-02</td>\n",
       "      <td>3250000.0</td>\n",
       "      <td>150.0</td>\n",
       "      <td>[{'iso_639_1': 'hi', 'name': 'हिन्दी'}]</td>\n",
       "      <td>Released</td>\n",
       "      <td>NaN</td>\n",
       "      <td>Drona</td>\n",
       "      <td>False</td>\n",
       "      <td>2.6</td>\n",
       "      <td>5.0</td>\n",
       "    </tr>\n",
       "    <tr>\n",
       "      <th>31713</th>\n",
       "      <td>False</td>\n",
       "      <td>NaN</td>\n",
       "      <td>0</td>\n",
       "      <td>[{'id': 18, 'name': 'Drama'}]</td>\n",
       "      <td>NaN</td>\n",
       "      <td>79526</td>\n",
       "      <td>tt0986225</td>\n",
       "      <td>en</td>\n",
       "      <td>Duska</td>\n",
       "      <td>An older film critic's life is interrupted by ...</td>\n",
       "      <td>...</td>\n",
       "      <td>2007-10-04</td>\n",
       "      <td>0.0</td>\n",
       "      <td>110.0</td>\n",
       "      <td>[{'iso_639_1': 'nl', 'name': 'Nederlands'}, {'...</td>\n",
       "      <td>Released</td>\n",
       "      <td>NaN</td>\n",
       "      <td>Duska</td>\n",
       "      <td>False</td>\n",
       "      <td>4.8</td>\n",
       "      <td>4.0</td>\n",
       "    </tr>\n",
       "    <tr>\n",
       "      <th>25307</th>\n",
       "      <td>False</td>\n",
       "      <td>NaN</td>\n",
       "      <td>0</td>\n",
       "      <td>[]</td>\n",
       "      <td>NaN</td>\n",
       "      <td>171357</td>\n",
       "      <td>tt2722780</td>\n",
       "      <td>en</td>\n",
       "      <td>Jonathan Rosenbaum, Present</td>\n",
       "      <td>A portrait of the influential American film cr...</td>\n",
       "      <td>...</td>\n",
       "      <td>2013-02-27</td>\n",
       "      <td>0.0</td>\n",
       "      <td>13.0</td>\n",
       "      <td>[{'iso_639_1': 'en', 'name': 'English'}]</td>\n",
       "      <td>Released</td>\n",
       "      <td>NaN</td>\n",
       "      <td>Jonathan Rosenbaum, Present</td>\n",
       "      <td>False</td>\n",
       "      <td>0.0</td>\n",
       "      <td>0.0</td>\n",
       "    </tr>\n",
       "    <tr>\n",
       "      <th>18849</th>\n",
       "      <td>False</td>\n",
       "      <td>NaN</td>\n",
       "      <td>0</td>\n",
       "      <td>[{'id': 53, 'name': 'Thriller'}, {'id': 18, 'n...</td>\n",
       "      <td>NaN</td>\n",
       "      <td>40720</td>\n",
       "      <td>tt1407084</td>\n",
       "      <td>en</td>\n",
       "      <td>Twelve</td>\n",
       "      <td>A young drug dealer watches as his high-rollin...</td>\n",
       "      <td>...</td>\n",
       "      <td>2010-07-30</td>\n",
       "      <td>0.0</td>\n",
       "      <td>93.0</td>\n",
       "      <td>[{'iso_639_1': 'en', 'name': 'English'}]</td>\n",
       "      <td>Rumored</td>\n",
       "      <td>No one needs anything here. It's all about want.</td>\n",
       "      <td>Twelve</td>\n",
       "      <td>False</td>\n",
       "      <td>6.0</td>\n",
       "      <td>99.0</td>\n",
       "    </tr>\n",
       "    <tr>\n",
       "      <th>798</th>\n",
       "      <td>False</td>\n",
       "      <td>NaN</td>\n",
       "      <td>0</td>\n",
       "      <td>[{'id': 10752, 'name': 'War'}, {'id': 18, 'nam...</td>\n",
       "      <td>NaN</td>\n",
       "      <td>151489</td>\n",
       "      <td>tt0104403</td>\n",
       "      <td>cy</td>\n",
       "      <td>Hedd Wyn</td>\n",
       "      <td>'Hedd Wyn' is a 1992 Welsh anti-war biopic. El...</td>\n",
       "      <td>...</td>\n",
       "      <td>1992-01-01</td>\n",
       "      <td>0.0</td>\n",
       "      <td>123.0</td>\n",
       "      <td>[{'iso_639_1': 'cy', 'name': 'Cymraeg'}]</td>\n",
       "      <td>Released</td>\n",
       "      <td>NaN</td>\n",
       "      <td>Hedd Wyn</td>\n",
       "      <td>False</td>\n",
       "      <td>6.5</td>\n",
       "      <td>2.0</td>\n",
       "    </tr>\n",
       "  </tbody>\n",
       "</table>\n",
       "<p>5 rows × 24 columns</p>\n",
       "</div>"
      ],
      "text/plain": [
       "       adult belongs_to_collection    budget  \\\n",
       "21820  False                   NaN  15000000   \n",
       "31713  False                   NaN         0   \n",
       "25307  False                   NaN         0   \n",
       "18849  False                   NaN         0   \n",
       "798    False                   NaN         0   \n",
       "\n",
       "                                                  genres  \\\n",
       "21820  [{'id': 28, 'name': 'Action'}, {'id': 10769, '...   \n",
       "31713                      [{'id': 18, 'name': 'Drama'}]   \n",
       "25307                                                 []   \n",
       "18849  [{'id': 53, 'name': 'Thriller'}, {'id': 18, 'n...   \n",
       "798    [{'id': 10752, 'name': 'War'}, {'id': 18, 'nam...   \n",
       "\n",
       "                                  homepage      id    imdb_id  \\\n",
       "21820  http://drona.erosentertainment.com/   19623  tt1060249   \n",
       "31713                                  NaN   79526  tt0986225   \n",
       "25307                                  NaN  171357  tt2722780   \n",
       "18849                                  NaN   40720  tt1407084   \n",
       "798                                    NaN  151489  tt0104403   \n",
       "\n",
       "      original_language               original_title  \\\n",
       "21820                hi                        Drona   \n",
       "31713                en                        Duska   \n",
       "25307                en  Jonathan Rosenbaum, Present   \n",
       "18849                en                       Twelve   \n",
       "798                  cy                     Hedd Wyn   \n",
       "\n",
       "                                                overview  ... release_date  \\\n",
       "21820                                                NaN  ...   2008-10-02   \n",
       "31713  An older film critic's life is interrupted by ...  ...   2007-10-04   \n",
       "25307  A portrait of the influential American film cr...  ...   2013-02-27   \n",
       "18849  A young drug dealer watches as his high-rollin...  ...   2010-07-30   \n",
       "798    'Hedd Wyn' is a 1992 Welsh anti-war biopic. El...  ...   1992-01-01   \n",
       "\n",
       "         revenue runtime                                   spoken_languages  \\\n",
       "21820  3250000.0   150.0            [{'iso_639_1': 'hi', 'name': 'हिन्दी'}]   \n",
       "31713        0.0   110.0  [{'iso_639_1': 'nl', 'name': 'Nederlands'}, {'...   \n",
       "25307        0.0    13.0           [{'iso_639_1': 'en', 'name': 'English'}]   \n",
       "18849        0.0    93.0           [{'iso_639_1': 'en', 'name': 'English'}]   \n",
       "798          0.0   123.0           [{'iso_639_1': 'cy', 'name': 'Cymraeg'}]   \n",
       "\n",
       "         status                                           tagline  \\\n",
       "21820  Released                                               NaN   \n",
       "31713  Released                                               NaN   \n",
       "25307  Released                                               NaN   \n",
       "18849   Rumored  No one needs anything here. It's all about want.   \n",
       "798    Released                                               NaN   \n",
       "\n",
       "                             title  video vote_average vote_count  \n",
       "21820                        Drona  False          2.6        5.0  \n",
       "31713                        Duska  False          4.8        4.0  \n",
       "25307  Jonathan Rosenbaum, Present  False          0.0        0.0  \n",
       "18849                       Twelve  False          6.0       99.0  \n",
       "798                       Hedd Wyn  False          6.5        2.0  \n",
       "\n",
       "[5 rows x 24 columns]"
      ]
     },
     "execution_count": 12,
     "metadata": {},
     "output_type": "execute_result"
    }
   ],
   "source": [
    "# View five random rows from the dataset\n",
    "kaggle_metadata.sample(n=5)"
   ]
  },
  {
   "cell_type": "code",
   "execution_count": null,
   "metadata": {},
   "outputs": [],
   "source": []
  },
  {
   "cell_type": "code",
   "execution_count": null,
   "metadata": {},
   "outputs": [],
   "source": []
  },
  {
   "cell_type": "code",
   "execution_count": null,
   "metadata": {},
   "outputs": [],
   "source": []
  },
  {
   "cell_type": "code",
   "execution_count": null,
   "metadata": {},
   "outputs": [],
   "source": []
  },
  {
   "cell_type": "code",
   "execution_count": null,
   "metadata": {},
   "outputs": [],
   "source": []
  },
  {
   "cell_type": "code",
   "execution_count": null,
   "metadata": {},
   "outputs": [],
   "source": []
  },
  {
   "cell_type": "code",
   "execution_count": null,
   "metadata": {},
   "outputs": [],
   "source": []
  },
  {
   "cell_type": "code",
   "execution_count": null,
   "metadata": {},
   "outputs": [],
   "source": []
  },
  {
   "cell_type": "code",
   "execution_count": null,
   "metadata": {},
   "outputs": [],
   "source": []
  },
  {
   "cell_type": "code",
   "execution_count": null,
   "metadata": {},
   "outputs": [],
   "source": []
  },
  {
   "cell_type": "code",
   "execution_count": null,
   "metadata": {},
   "outputs": [],
   "source": []
  }
 ],
 "metadata": {
  "kernelspec": {
   "display_name": "PythonData",
   "language": "python",
   "name": "pythondata"
  },
  "language_info": {
   "codemirror_mode": {
    "name": "ipython",
    "version": 3
   },
   "file_extension": ".py",
   "mimetype": "text/x-python",
   "name": "python",
   "nbconvert_exporter": "python",
   "pygments_lexer": "ipython3",
   "version": "3.7.9"
  }
 },
 "nbformat": 4,
 "nbformat_minor": 4
}
